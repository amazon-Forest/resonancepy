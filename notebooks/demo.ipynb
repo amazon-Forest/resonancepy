{
 "cells": [
  {
   "cell_type": "markdown",
   "id": "0",
   "metadata": {},
   "source": [
    "# Demo"
   ]
  },
  {
   "cell_type": "markdown",
   "id": "1",
   "metadata": {},
   "source": [
    "## Running Sweep"
   ]
  },
  {
   "cell_type": "code",
   "execution_count": null,
   "id": "2",
   "metadata": {},
   "outputs": [],
   "source": [
    "from resonance_py.measurements.resonatorMeasurement import ResonatorMeasurement\n",
    "from resonance_py.drivers.keysightN5221B import KeysightN5221B\n",
    "from resonance_py.drivers.SetAttenuation import set_attenuation\n",
    "import matplotlib.pyplot as plt\n",
    "from resonance_py.utils.statistics import comp2magdB\n",
    "\n",
    "import numpy as np\n",
    "from datetime import datetime\n",
    "from pathlib import Path\n",
    "import os\n",
    "\n",
    "atten_address = 'TCPIP0::192.168.10.27::inst0::INSTR'\n",
    "vna_address = \"TCPIP0::K-N5221B-11311.local::hislip0::INSTR\"\n",
    "\n",
    "# ================================================\n",
    "# Connect to the PNA Instrument\n",
    "# ================================================\n",
    "pna = KeysightN5221B(\"pna\", vna_address)\n"
   ]
  },
  {
   "cell_type": "code",
   "execution_count": null,
   "id": "3",
   "metadata": {},
   "outputs": [],
   "source": [
    "# ================================================\n",
    "# Run Full Experiment\n",
    "# ================================================\n",
    "\n",
    "center_freq = 4.4e9  # 7.5 GHz\n",
    "span = 870e6           # 1 GHz span\n",
    "points = 10e3         # 201 measurement points\n",
    "\n",
    "measurement_settings = {\n",
    "        # General settings\n",
    "        \"centerFrequency\": 4.4e9,       # 7.0 GHz\n",
    "        \"frequencySpan\": 870e6 ,         # 1.0 GHz span\n",
    "        \"systemAttenuation\": 0,        # 60 dB attenuation in system\n",
    "        \"selectedResonators\": [0, 1, 2, 3, 4], # Resonators to be measured\n",
    "        \n",
    "        # Resonator settings\n",
    "        \"numOfResonators\": 5,           # Expect 3 resonators\n",
    "        \"attenuationValues\": [ 40, 35, 30, 20, 10, 5, 0],  # Attenuation values to test\n",
    "\n",
    "        \"is_dip\": True,\n",
    "        \"fix_zero_widths\": True,\n",
    "        \"fwhm_index_width_limit\": 80,\n",
    "        \n",
    "        # Sweep Settings\n",
    "        'survey': {\n",
    "            'points': 10e3,\n",
    "            'if_bandwidth': 1000,\n",
    "            'measurement': 'S21',\n",
    "            'save_data': True,\n",
    "        },\n",
    "        'refine': {\n",
    "            'initial_span': 1e6,\n",
    "            'points': 10e3,\n",
    "            'if_bandwidth': 1000,\n",
    "            'measurement': 'S21',\n",
    "            'span_refinement_value': 0.5,  # Factor to reduce span on each iteration (does this make sense or should we be closer to 0.8-0.9?)\n",
    "            'fwhm_index_width_limit': 80,  # Minimum number of points across FWHM\n",
    "            'save_data': True,\n",
    "        },\n",
    "        'segment': {\n",
    "            'points': [75, 60, 40, 50],\n",
    "            'segment_factors': [0.5, 1, 2, 3],  # Width factors for segments\n",
    "            'measurement': 'S21',\n",
    "            'averaging': 1,\n",
    "            'save_data': True,\n",
    "        }\n",
    "        }\n",
    "\n",
    "save_dir = Path.cwd() /'data/'\n",
    "date_str = datetime.now().strftime(\"%Y%m%d\")\n",
    "experiment_name = f\"32025_Sample1_Cooldown3\"\n",
    "save_path = os.path.join(save_dir, experiment_name)\n",
    "\n",
    "measurement = ResonatorMeasurement(\n",
    "        pna=pna,\n",
    "        save_path=save_path,\n",
    "        save_base_name=experiment_name,\n",
    "        settings=measurement_settings,\n",
    "        atten_address=atten_address\n",
    "    )\n",
    "\n",
    "measurement.full_scan()\n",
    "# measurement.survey_scan()\n",
    "# Add graphs to survey and refine sweeps"
   ]
  },
  {
   "cell_type": "markdown",
   "id": "4",
   "metadata": {},
   "source": [
    "## Fitting"
   ]
  },
  {
   "cell_type": "code",
   "execution_count": null,
   "id": "5",
   "metadata": {},
   "outputs": [],
   "source": [
    "import re\n",
    "import pandas as pd\n",
    "from tkinter import Tk\n",
    "from tkinter.filedialog import askopenfilenames\n",
    "from resonance_py.data_analysis.resonator_data import ResonatorData\n",
    "from resonance_py.data_analysis.res_iS21 import single_resonator_fit\n",
    "from pathlib import Path"
   ]
  },
  {
   "cell_type": "code",
   "execution_count": null,
   "id": "6",
   "metadata": {},
   "outputs": [],
   "source": [
    "measurement.segment_data['resonator'][0]['run_data'][0]"
   ]
  },
  {
   "cell_type": "code",
   "execution_count": null,
   "id": "7",
   "metadata": {},
   "outputs": [],
   "source": [
    "\n",
    "data = measurement.segment_data['resonator'][0]['run_data'][0]\n",
    "resonator = data['resonator']\n",
    "attenuation = data['sweep_settings']['attenuation']\n",
    "save_to = Path().cwd() / 'data/log_files/32025_Sample1_Cooldown3/plots'\n",
    "plot_name = f\"R0{resonator+1}_atten{attenuation}dB\"\n",
    "\n",
    "\n",
    "save_to_info ={\n",
    "    \"save_plots\": True,  # Save plots\n",
    "    \"file_type\": \"png\",  # Default file type for saving results\n",
    "    \"plot_name_format\": 'manual',  # Format for saving plots\n",
    "    \"plot_group\": \"plots\",\n",
    "    \"show_plots\": True,  # Show plots\n",
    "    'file_path': save_to,  # Path to save plots\n",
    "    'plot_name': plot_name,\n",
    "}\n",
    "\n",
    "resonator_data = ResonatorData(freq=data['frequencies'],raw_s21=data['s21'])\n",
    "resonator_data.save_to_info = save_to_info\n",
    "\n",
    "resonator_data.atten = data['sweep_settings']['attenuation']\n",
    "resonator_data.fit.update({'model': 'Probst'})\n",
    "\n",
    "resonator_data = single_resonator_fit(resonator_data, opts={\"plot\":False})"
   ]
  },
  {
   "cell_type": "code",
   "execution_count": null,
   "id": "8",
   "metadata": {},
   "outputs": [],
   "source": [
    "import re\n",
    "import pandas as pd\n",
    "from tkinter import Tk\n",
    "from tkinter.filedialog import askopenfilenames\n",
    "from resonance_py.data_analysis.resonator_data import ResonatorData\n",
    "from resonance_py.data_analysis.modeling import single_resonator_fit\n",
    "from pathlib import Path\n",
    "\n",
    "def analyze_resonator_data(get_file='gui,', model = 'probst', dir=None, save_to_info=None):\n",
    "    # Function to analyze resonator data\n",
    "    # This function will contain the logic to analyze the data\n",
    "    # and return the results in a structured format.\n",
    "\n",
    "    def getfiles(method='gui', directory: Path =None):\n",
    "        if method == 'gui':\n",
    "            root = Tk()\n",
    "            Tk().withdraw()  # we don't want a full GUI, so keep the root window from appearing\n",
    "            filenames = askopenfilenames(  # show an \"Open\" dialog box and return paths to selected files\n",
    "                title=\"Select data files\",\n",
    "                filetypes=[(\"Text files\", \"*.txt\"), (\"All files\", \"*.*\")]\n",
    "            )\n",
    "\n",
    "            root.destroy()\n",
    "            return filenames\n",
    "        elif method == 'dir':\n",
    "            filenames = [f for f in directory.iterdir() if re.match(r'241104 D2G0437 R3C4 Q2-2 R(\\d{2}-\\d{2}dB-)', str(f.name))]\n",
    "            return filenames\n",
    "    \n",
    "    \n",
    "    rows = []\n",
    "    filenames = getfiles(method=get_file, directory=dir)\n",
    "\n",
    "    for filename in filenames:\n",
    "        \n",
    "        file_path = Path(filename)\n",
    "        \n",
    "        filename = file_path\n",
    "        \n",
    "        print(file_path)\n",
    "        \n",
    "        save_to = Path(filenames[0]).parent.parent / 'python_plots'\n",
    "        save_to_info.update({'file_path': save_to})\n",
    "        plot_name = filename.stem\n",
    "        save_to_info.update({'plot_name': plot_name})\n",
    "\n",
    "        resonator_data = ResonatorData.from_file(filename, save_to_info=save_to_info)\n",
    "\n",
    "        atten = int(re.findall(r'R\\d{2}-(\\d{2})dB', file_path.name)[0])\n",
    "        resonator_data.atten = atten\n",
    "        resonator_data.fit.update({'model': model})\n",
    "\n",
    "        resonator = re.findall(r'R\\d{2}-\\d{2}dB',str(file_path.name))[0][:3]\n",
    "        resonator_data = single_resonator_fit(resonator_data, opts={\"plot\":False})\n",
    "        fo = resonator_data.fit['fo']\n",
    "        Qi = resonator_data.fit['Qi']\n",
    "        QiError = resonator_data.fit['QiError']\n",
    "        Qc = resonator_data.fit['Qc']\n",
    "        QcError = resonator_data.fit['QcError']\n",
    "        Qt = resonator_data.fit['Qt']\n",
    "        QtError = resonator_data.fit['QtError']\n",
    "        phi = resonator_data.fit['phi']\n",
    "        np_ = resonator_data.Np\n",
    "        s21max = resonator_data.max_raw_s21\n",
    "        s21min = resonator_data.min_raw_s21\n",
    "        iS21CircSNR = resonator_data.is21circ_snr\n",
    "\n",
    "\n",
    "        rows.append({'resonator_number': resonator,\n",
    "                        'fo': fo,\n",
    "                        'Np': np_,\n",
    "                        'Qi': Qi,\n",
    "                        'deltaQi': QiError,\n",
    "                        'Qc': Qc,\n",
    "                        'deltaQc': QcError,\n",
    "                        'Qt': Qt,\n",
    "                        'deltaQt': QtError,\n",
    "                        'phi': phi,\n",
    "                        'S21max (dB)': s21max,\n",
    "                        'S21min (dB)': s21min,\n",
    "                        'iS21CircSNR': iS21CircSNR,\n",
    "                        'Data filename': filename})\n",
    "        \n",
    "\n",
    "\n",
    "    df = pd.DataFrame(rows)"
   ]
  },
  {
   "cell_type": "code",
   "execution_count": null,
   "id": "9",
   "metadata": {},
   "outputs": [],
   "source": [
    "\n",
    "save_to_info ={\n",
    "    \"save_plots\": False,  # Save plots\n",
    "    \"file_type\": \"png\",  # Default file type for saving results\n",
    "    \"plot_name_format\": 'manual',  # Format for saving plots\n",
    "    \"plot_group\": \"plots\",\n",
    "    \"show_plots\": True,  # Show plots\n",
    "}\n",
    "\n",
    "analyze_resonator_data(get_file='gui', model='Probst' ,dir=None, save_to_info=save_to_info)\n",
    "\n",
    "resonator_data = ResonatorData.from_file(filename, save_to_info=save_to_info)\n",
    "\n",
    "atten = int(re.findall(r'R\\d{2}-(\\d{2})dB', file_path.name)[0])\n",
    "resonator_data.atten = atten\n",
    "resonator_data.fit.update({'model': model})\n",
    "\n",
    "resonator = re.findall(r'R\\d{2}-\\d{2}dB',str(file_path.name))[0][:3]\n",
    "resonator_data = single_resonator_fit(resonator_data, opts={\"plot\":False})"
   ]
  },
  {
   "cell_type": "markdown",
   "id": "10",
   "metadata": {},
   "source": [
    "# New VNA"
   ]
  },
  {
   "cell_type": "code",
   "execution_count": null,
   "id": "11",
   "metadata": {},
   "outputs": [],
   "source": [
    "import pyvisa"
   ]
  },
  {
   "cell_type": "code",
   "execution_count": null,
   "id": "12",
   "metadata": {},
   "outputs": [],
   "source": [
    "rm = pyvisa.ResourceManager()"
   ]
  },
  {
   "cell_type": "code",
   "execution_count": null,
   "id": "13",
   "metadata": {},
   "outputs": [],
   "source": [
    "rm.list_resources()"
   ]
  },
  {
   "cell_type": "code",
   "execution_count": null,
   "id": "14",
   "metadata": {},
   "outputs": [],
   "source": [
    "vna = rm.open_resource('TCPIP0::192.168.10.20::inst0::INSTR')"
   ]
  },
  {
   "cell_type": "code",
   "execution_count": null,
   "id": "15",
   "metadata": {},
   "outputs": [],
   "source": [
    "\n",
    "vna.query(':FORMat:DATA?')"
   ]
  },
  {
   "cell_type": "code",
   "execution_count": null,
   "id": "16",
   "metadata": {},
   "outputs": [],
   "source": [
    "\n",
    "data = vna.query_ascii_values(\":SENS1:FREQ:DATA?\")"
   ]
  },
  {
   "cell_type": "code",
   "execution_count": null,
   "id": "17",
   "metadata": {},
   "outputs": [],
   "source": [
    "from ResonatorProject.drivers.keysightE5072A import KeysightE5072A\n",
    "from ResonatorProject.measurements.resonatorMeasurement import ResonatorMeasurement\n",
    "from ResonatorProject.drivers.keysightN5221B import KeysightN5221B\n",
    "from ResonatorProject.drivers.SetAttenuation import set_attenuation\n",
    "import matplotlib.pyplot as plt\n",
    "from ResonatorProject.utils.statistics import comp2magdB\n",
    "\n",
    "import numpy as np\n",
    "from datetime import datetime\n",
    "from pathlib import Path\n",
    "import os\n",
    "address = 'TCPIP0::192.168.10.20::inst0::INSTR'\n",
    "vna = KeysightE5072A('E5072A', address)"
   ]
  },
  {
   "cell_type": "code",
   "execution_count": null,
   "id": "18",
   "metadata": {},
   "outputs": [],
   "source": [
    "from ResonatorProject.utils.segmentation import create_resonator_segments\n",
    "freqs = [4.5e9]\n",
    "fwhm = 1e6  # 1 MHz FWHM for all resonators\n",
    "segments_data = create_resonator_segments(freqs, fwhm, fill_gaps=False, f_sec=[.5,3], n_points=[75, 60])\n",
    "segments_data"
   ]
  },
  {
   "cell_type": "code",
   "execution_count": null,
   "id": "19",
   "metadata": {},
   "outputs": [],
   "source": [
    "vna.segmented_sweep(segments_data)"
   ]
  },
  {
   "cell_type": "code",
   "execution_count": null,
   "id": "20",
   "metadata": {},
   "outputs": [],
   "source": [
    "# ================================================\n",
    "# Run Full Experiment\n",
    "# ================================================\n",
    "\n",
    "center_freq = 4.4e9  # 7.5 GHz\n",
    "span = 870e6           # 1 GHz span\n",
    "points = 10e3         # 201 measurement points\n",
    "\n",
    "measurement_settings = {\n",
    "        # General settings\n",
    "        \"centerFrequency\": 6.7e9,       # 7.0 GHz\n",
    "        \"frequencySpan\": 1.7e9 ,         # 1.0 GHz span\n",
    "        \"systemAttenuation\": 0,        # 60 dB attenuation in system\n",
    "        \"selectedResonators\": [0], # Resonators to be measured\n",
    "        \n",
    "        # Resonator settings\n",
    "        \"numOfResonators\": 1,           # Expect 3 resonators\n",
    "        \"attenuationValues\": [ 40, 35, 0],  # Attenuation values to test\n",
    "\n",
    "        \"is_dip\": False,\n",
    "        \"fix_zero_widths\": True,\n",
    "        \"fwhm_index_width_limit\": 80,\n",
    "        \n",
    "        # Sweep Settings\n",
    "        'survey': {\n",
    "            'points': 10e3,\n",
    "            'if_bandwidth': 1000,\n",
    "            'measurement': 'S21',\n",
    "            'save_data': False,\n",
    "        },\n",
    "        'refine': {\n",
    "            'initial_span': 1e6,\n",
    "            'points': 10e3,\n",
    "            'if_bandwidth': 1000,\n",
    "            'measurement': 'S21',\n",
    "            'span_refinement_value': 0.5,  # Factor to reduce span on each iteration (does this make sense or should we be closer to 0.8-0.9?)\n",
    "            'fwhm_index_width_limit': 80,  # Minimum number of points across FWHM\n",
    "            'save_data': False,\n",
    "        },\n",
    "        'segment': {\n",
    "            'points': [75, 60, 40, 50],\n",
    "            'segment_factors': [0.5, 1, 2, 3],  # Width factors for segments\n",
    "            'measurement': 'S21',\n",
    "            'averaging': 1,\n",
    "            'save_data': False,\n",
    "        }\n",
    "        }\n",
    "\n",
    "save_dir = Path.cwd() /'data/'\n",
    "date_str = datetime.now().strftime(\"%Y%m%d\")\n",
    "experiment_name = f\"32025_Sample1_Cooldown3\"\n",
    "save_path = os.path.join(save_dir, experiment_name)\n",
    "\n",
    "measurement = ResonatorMeasurement(\n",
    "        pna=vna,\n",
    "        save_path=save_path,\n",
    "        save_base_name=experiment_name,\n",
    "        settings=measurement_settings,\n",
    "        atten_address=address\n",
    "    )\n",
    "\n",
    "\n",
    "# measurement.survey_scan()\n",
    "# Add graphs to survey and refine sweeps"
   ]
  },
  {
   "cell_type": "code",
   "execution_count": null,
   "id": "21",
   "metadata": {},
   "outputs": [],
   "source": [
    "refined_data, all_refined = measurement.refinement_scan(0)\n",
    "segment_data = measurement.segmented_scan(refined_data)"
   ]
  },
  {
   "cell_type": "code",
   "execution_count": null,
   "id": "22",
   "metadata": {},
   "outputs": [],
   "source": [
    "res_complex_data, res_frequencies = vna.linear_sweep(\n",
    "    center_frequency=measurement_settings['centerFrequency'], \n",
    "    frequency_span=measurement_settings['frequencySpan'], \n",
    "    points=measurement_settings['survey']['points'], \n",
    "    if_bandwidth=measurement_settings['survey']['if_bandwidth'],\n",
    "    measurement=measurement_settings['survey']['measurement'],\n",
    ")"
   ]
  },
  {
   "cell_type": "code",
   "execution_count": null,
   "id": "23",
   "metadata": {},
   "outputs": [],
   "source": [
    "refine_settings = measurement.settings['refine']\n",
    "\n",
    "frequencies = measurement.survey_data['frequencies']\n",
    "refined_center = measurement.survey_data['peaks_info']['fo'][0]\n",
    "refined_span = refine_settings['initial_span']\n",
    "refined_if_bandwidth = refine_settings['if_bandwidth']\n",
    "refined_points = refine_settings['points']\n",
    "\n",
    "res_complex_data, res_frequencies = vna.linear_sweep(\n",
    "    center_frequency=refined_center, \n",
    "    frequency_span=refined_span, \n",
    "    points=refined_points, \n",
    "    if_bandwidth=refined_if_bandwidth,\n",
    "    measurement=refine_settings['measurement']\n",
    ")"
   ]
  },
  {
   "cell_type": "code",
   "execution_count": null,
   "id": "24",
   "metadata": {},
   "outputs": [],
   "source": [
    "# \n",
    "# vna.auto_sweep(False)\n",
    "# vna.write(\":ABOR\")\n",
    "vna.ask(\":SENS1:SWE:TIME?\").strip()\n",
    "# vna.write(\":INIT:IMM\")"
   ]
  },
  {
   "cell_type": "code",
   "execution_count": null,
   "id": "25",
   "metadata": {},
   "outputs": [],
   "source": [
    "from time import sleep\n",
    "# vna.write(\"*OPC\")\n",
    "# vna.auto_sweep(True)\n",
    "vna.write(\"INIT:IMM\")\n",
    "status = int(vna.ask(\":STATus:OPERation:CONDition?\").strip())\n",
    "print(status)\n",
    "while status:\n",
    "    sleep(10)\n",
    "    status = int(vna.ask(\":STATus:OPERation:CONDition?\").strip())\n",
    "    print(status)"
   ]
  },
  {
   "cell_type": "code",
   "execution_count": null,
   "id": "26",
   "metadata": {},
   "outputs": [],
   "source": [
    "vna.auto_sweep(False)\n",
    "if vna.auto_sweep():\n",
    "    print(\"Auto sweep is on\")"
   ]
  },
  {
   "cell_type": "code",
   "execution_count": null,
   "id": "27",
   "metadata": {},
   "outputs": [],
   "source": [
    "vna.ask(\":STAT:OPER?\")"
   ]
  },
  {
   "cell_type": "code",
   "execution_count": null,
   "id": "28",
   "metadata": {},
   "outputs": [],
   "source": []
  }
 ],
 "metadata": {
  "kernelspec": {
   "display_name": "resonatorproject",
   "language": "python",
   "name": "python3"
  },
  "language_info": {
   "codemirror_mode": {
    "name": "ipython",
    "version": 3
   },
   "file_extension": ".py",
   "mimetype": "text/x-python",
   "name": "python",
   "nbconvert_exporter": "python",
   "pygments_lexer": "ipython3",
   "version": "3.12.9"
  }
 },
 "nbformat": 4,
 "nbformat_minor": 5
}
